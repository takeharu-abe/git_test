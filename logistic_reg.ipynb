{
 "cells": [
  {
   "cell_type": "code",
   "execution_count": 1,
   "id": "72b671f7-fd2f-4c68-af14-040b62cbf459",
   "metadata": {},
   "outputs": [],
   "source": [
    "import numpy as np\n",
    "import pandas as pd"
   ]
  },
  {
   "cell_type": "code",
   "execution_count": 2,
   "id": "90bfb5f4-bb13-43ca-8f0b-05229a92d854",
   "metadata": {},
   "outputs": [],
   "source": [
    "from pyspark.sql import SparkSession\n",
    "spark = SparkSession.builder.master(\"local\").appName(\"logistic_regression\").getOrCreate()"
   ]
  },
  {
   "cell_type": "code",
   "execution_count": 3,
   "id": "b1b246b7-bd21-4884-a084-9595d31dbdae",
   "metadata": {},
   "outputs": [
    {
     "name": "stdout",
     "output_type": "stream",
     "text": [
      "+---+------------+--------+---------+-------+-------+-------+----+-------+---+-----+--------+--------+-----+--------+--------+---+\n",
      "|age|         job| marital|education|default|balance|housing|loan|contact|day|month|duration|campaign|pdays|previous|poutcome|  y|\n",
      "+---+------------+--------+---------+-------+-------+-------+----+-------+---+-----+--------+--------+-----+--------+--------+---+\n",
      "| 58|  management| married| tertiary|     no|   2143|    yes|  no|unknown|  5|  may|     261|       1|   -1|       0| unknown| no|\n",
      "| 44|  technician|  single|secondary|     no|     29|    yes|  no|unknown|  5|  may|     151|       1|   -1|       0| unknown| no|\n",
      "| 33|entrepreneur| married|secondary|     no|      2|    yes| yes|unknown|  5|  may|      76|       1|   -1|       0| unknown| no|\n",
      "| 47| blue-collar| married|  unknown|     no|   1506|    yes|  no|unknown|  5|  may|      92|       1|   -1|       0| unknown| no|\n",
      "| 33|     unknown|  single|  unknown|     no|      1|     no|  no|unknown|  5|  may|     198|       1|   -1|       0| unknown| no|\n",
      "| 35|  management| married| tertiary|     no|    231|    yes|  no|unknown|  5|  may|     139|       1|   -1|       0| unknown| no|\n",
      "| 28|  management|  single| tertiary|     no|    447|    yes| yes|unknown|  5|  may|     217|       1|   -1|       0| unknown| no|\n",
      "| 42|entrepreneur|divorced| tertiary|    yes|      2|    yes|  no|unknown|  5|  may|     380|       1|   -1|       0| unknown| no|\n",
      "| 58|     retired| married|  primary|     no|    121|    yes|  no|unknown|  5|  may|      50|       1|   -1|       0| unknown| no|\n",
      "| 43|  technician|  single|secondary|     no|    593|    yes|  no|unknown|  5|  may|      55|       1|   -1|       0| unknown| no|\n",
      "| 41|      admin.|divorced|secondary|     no|    270|    yes|  no|unknown|  5|  may|     222|       1|   -1|       0| unknown| no|\n",
      "| 29|      admin.|  single|secondary|     no|    390|    yes|  no|unknown|  5|  may|     137|       1|   -1|       0| unknown| no|\n",
      "| 53|  technician| married|secondary|     no|      6|    yes|  no|unknown|  5|  may|     517|       1|   -1|       0| unknown| no|\n",
      "| 58|  technician| married|  unknown|     no|     71|    yes|  no|unknown|  5|  may|      71|       1|   -1|       0| unknown| no|\n",
      "| 57|    services| married|secondary|     no|    162|    yes|  no|unknown|  5|  may|     174|       1|   -1|       0| unknown| no|\n",
      "| 51|     retired| married|  primary|     no|    229|    yes|  no|unknown|  5|  may|     353|       1|   -1|       0| unknown| no|\n",
      "| 45|      admin.|  single|  unknown|     no|     13|    yes|  no|unknown|  5|  may|      98|       1|   -1|       0| unknown| no|\n",
      "| 57| blue-collar| married|  primary|     no|     52|    yes|  no|unknown|  5|  may|      38|       1|   -1|       0| unknown| no|\n",
      "| 60|     retired| married|  primary|     no|     60|    yes|  no|unknown|  5|  may|     219|       1|   -1|       0| unknown| no|\n",
      "| 33|    services| married|secondary|     no|      0|    yes|  no|unknown|  5|  may|      54|       1|   -1|       0| unknown| no|\n",
      "+---+------------+--------+---------+-------+-------+-------+----+-------+---+-----+--------+--------+-----+--------+--------+---+\n",
      "only showing top 20 rows\n",
      "\n"
     ]
    }
   ],
   "source": [
    "filename = \"./bank-full.csv\"\n",
    "data = spark.read.csv(filename, header=True, inferSchema=True, sep=\";\")\n",
    "data.show()"
   ]
  },
  {
   "cell_type": "code",
   "execution_count": 4,
   "id": "c321c47b-e28d-4417-8d86-89d985cc2bb7",
   "metadata": {},
   "outputs": [
    {
     "data": {
      "text/plain": [
       "[('age', 'int'),\n",
       " ('job', 'string'),\n",
       " ('marital', 'string'),\n",
       " ('education', 'string'),\n",
       " ('default', 'string'),\n",
       " ('balance', 'int'),\n",
       " ('housing', 'string'),\n",
       " ('loan', 'string'),\n",
       " ('contact', 'string'),\n",
       " ('day', 'int'),\n",
       " ('month', 'string'),\n",
       " ('duration', 'int'),\n",
       " ('campaign', 'int'),\n",
       " ('pdays', 'int'),\n",
       " ('previous', 'int'),\n",
       " ('poutcome', 'string'),\n",
       " ('y', 'string')]"
      ]
     },
     "execution_count": 4,
     "metadata": {},
     "output_type": "execute_result"
    }
   ],
   "source": [
    "data.dtypes"
   ]
  },
  {
   "cell_type": "code",
   "execution_count": 5,
   "id": "35f14bf9-e0fb-498c-b321-15f30053d092",
   "metadata": {},
   "outputs": [],
   "source": [
    "from pyspark.sql.functions import when, col, lit\n",
    "data1 = data.withColumn(\"y1\", when(data[\"y\"] == \"yes\", lit(1)).otherwise(lit(0)))"
   ]
  },
  {
   "cell_type": "code",
   "execution_count": 6,
   "id": "0193af4e-6d04-418a-afde-9ea31c9ed590",
   "metadata": {},
   "outputs": [
    {
     "name": "stdout",
     "output_type": "stream",
     "text": [
      "+---+------------+--------+---------+-------+-------+-------+----+-------+---+-----+--------+--------+-----+--------+--------+---+---+\n",
      "|age|         job| marital|education|default|balance|housing|loan|contact|day|month|duration|campaign|pdays|previous|poutcome|  y| y1|\n",
      "+---+------------+--------+---------+-------+-------+-------+----+-------+---+-----+--------+--------+-----+--------+--------+---+---+\n",
      "| 58|  management| married| tertiary|     no|   2143|    yes|  no|unknown|  5|  may|     261|       1|   -1|       0| unknown| no|  0|\n",
      "| 44|  technician|  single|secondary|     no|     29|    yes|  no|unknown|  5|  may|     151|       1|   -1|       0| unknown| no|  0|\n",
      "| 33|entrepreneur| married|secondary|     no|      2|    yes| yes|unknown|  5|  may|      76|       1|   -1|       0| unknown| no|  0|\n",
      "| 47| blue-collar| married|  unknown|     no|   1506|    yes|  no|unknown|  5|  may|      92|       1|   -1|       0| unknown| no|  0|\n",
      "| 33|     unknown|  single|  unknown|     no|      1|     no|  no|unknown|  5|  may|     198|       1|   -1|       0| unknown| no|  0|\n",
      "| 35|  management| married| tertiary|     no|    231|    yes|  no|unknown|  5|  may|     139|       1|   -1|       0| unknown| no|  0|\n",
      "| 28|  management|  single| tertiary|     no|    447|    yes| yes|unknown|  5|  may|     217|       1|   -1|       0| unknown| no|  0|\n",
      "| 42|entrepreneur|divorced| tertiary|    yes|      2|    yes|  no|unknown|  5|  may|     380|       1|   -1|       0| unknown| no|  0|\n",
      "| 58|     retired| married|  primary|     no|    121|    yes|  no|unknown|  5|  may|      50|       1|   -1|       0| unknown| no|  0|\n",
      "| 43|  technician|  single|secondary|     no|    593|    yes|  no|unknown|  5|  may|      55|       1|   -1|       0| unknown| no|  0|\n",
      "| 41|      admin.|divorced|secondary|     no|    270|    yes|  no|unknown|  5|  may|     222|       1|   -1|       0| unknown| no|  0|\n",
      "| 29|      admin.|  single|secondary|     no|    390|    yes|  no|unknown|  5|  may|     137|       1|   -1|       0| unknown| no|  0|\n",
      "| 53|  technician| married|secondary|     no|      6|    yes|  no|unknown|  5|  may|     517|       1|   -1|       0| unknown| no|  0|\n",
      "| 58|  technician| married|  unknown|     no|     71|    yes|  no|unknown|  5|  may|      71|       1|   -1|       0| unknown| no|  0|\n",
      "| 57|    services| married|secondary|     no|    162|    yes|  no|unknown|  5|  may|     174|       1|   -1|       0| unknown| no|  0|\n",
      "| 51|     retired| married|  primary|     no|    229|    yes|  no|unknown|  5|  may|     353|       1|   -1|       0| unknown| no|  0|\n",
      "| 45|      admin.|  single|  unknown|     no|     13|    yes|  no|unknown|  5|  may|      98|       1|   -1|       0| unknown| no|  0|\n",
      "| 57| blue-collar| married|  primary|     no|     52|    yes|  no|unknown|  5|  may|      38|       1|   -1|       0| unknown| no|  0|\n",
      "| 60|     retired| married|  primary|     no|     60|    yes|  no|unknown|  5|  may|     219|       1|   -1|       0| unknown| no|  0|\n",
      "| 33|    services| married|secondary|     no|      0|    yes|  no|unknown|  5|  may|      54|       1|   -1|       0| unknown| no|  0|\n",
      "+---+------------+--------+---------+-------+-------+-------+----+-------+---+-----+--------+--------+-----+--------+--------+---+---+\n",
      "only showing top 20 rows\n",
      "\n"
     ]
    }
   ],
   "source": [
    "data1.show()"
   ]
  },
  {
   "cell_type": "code",
   "execution_count": 7,
   "id": "d5b317ee-411f-4914-a7a0-830649c67c74",
   "metadata": {},
   "outputs": [],
   "source": [
    "#stringの処理\n",
    "from pyspark.ml.feature import StringIndexer\n",
    "default_index = StringIndexer(inputCol=\"default\", outputCol=\"default_index\")"
   ]
  },
  {
   "cell_type": "code",
   "execution_count": 8,
   "id": "16f562b5-2ce4-41e1-86fa-16a5da2e309e",
   "metadata": {},
   "outputs": [],
   "source": [
    "#assemble\n",
    "from pyspark.ml.feature import VectorAssembler\n",
    "assemble = VectorAssembler(inputCols=[\"age\", \"balance\", \"duration\", \"campaign\", \"previous\", \"default_index\"],\\\n",
    "                          outputCol=\"features\")"
   ]
  },
  {
   "cell_type": "code",
   "execution_count": 9,
   "id": "216d3d4b-d5a3-4ef9-b632-4bf8e02d458b",
   "metadata": {},
   "outputs": [],
   "source": [
    "#normalize\n",
    "from pyspark.ml.feature import StandardScaler\n",
    "scaler = StandardScaler(inputCol=\"features\", outputCol=\"scaled_features\")"
   ]
  },
  {
   "cell_type": "code",
   "execution_count": 10,
   "id": "d163ca3f-0658-480d-86b0-cbc3d001df0c",
   "metadata": {},
   "outputs": [],
   "source": [
    "#logistic regression\n",
    "from pyspark.ml.classification import LogisticRegression\n",
    "logistic_regression = LogisticRegression(featuresCol=\"scaled_features\", labelCol=\"y1\")"
   ]
  },
  {
   "cell_type": "code",
   "execution_count": 11,
   "id": "2e8bbb2e-bea1-4b8c-9dd8-9196f3548689",
   "metadata": {},
   "outputs": [],
   "source": [
    "#pipeline\n",
    "from pyspark.ml import Pipeline\n",
    "pipeline = Pipeline(stages=[default_index, assemble, scaler, logistic_regression])"
   ]
  },
  {
   "cell_type": "code",
   "execution_count": 12,
   "id": "e94aad42-15b2-47b3-98c6-a5c3d1fc6a5a",
   "metadata": {},
   "outputs": [],
   "source": [
    "df = data1.select(\"age\", \"balance\", \"duration\", \"campaign\", \"previous\", \"default\", \"y\", \"y1\")"
   ]
  },
  {
   "cell_type": "code",
   "execution_count": 13,
   "id": "1ea70f43-4c28-4d0f-bc17-b216e03c3049",
   "metadata": {},
   "outputs": [],
   "source": [
    "#split train data and test data\n",
    "train_df, test_df = df.randomSplit([0.7, 0.3], seed=123456)"
   ]
  },
  {
   "cell_type": "code",
   "execution_count": 14,
   "id": "a1b5702e-d23e-4a77-bfb6-63fd68c98e57",
   "metadata": {},
   "outputs": [],
   "source": [
    "#modeling by using train data\n",
    "fit_model = pipeline.fit(train_df)"
   ]
  },
  {
   "cell_type": "code",
   "execution_count": 15,
   "id": "7f1a5a63-d004-4374-b0c9-9d11c34e3417",
   "metadata": {},
   "outputs": [
    {
     "data": {
      "text/plain": [
       "DenseVector([0.0548, 0.1078, 0.9143, -0.4013, 0.3048, -0.0537])"
      ]
     },
     "execution_count": 15,
     "metadata": {},
     "output_type": "execute_result"
    }
   ],
   "source": [
    "#confirm the result of modeling\n",
    "fit_model.stages[3].coefficients"
   ]
  },
  {
   "cell_type": "code",
   "execution_count": 16,
   "id": "9431d00b-86be-4e20-9324-37717ddc4173",
   "metadata": {},
   "outputs": [],
   "source": [
    "#predict the targets of train data\n",
    "pred_train = fit_model.transform(train_df)"
   ]
  },
  {
   "cell_type": "code",
   "execution_count": 17,
   "id": "4f64dbdf-fea6-4e47-a3da-4843cbd29ab2",
   "metadata": {},
   "outputs": [
    {
     "name": "stdout",
     "output_type": "stream",
     "text": [
      "+---+-------+--------+--------+--------+-------+---+---+-------------+--------------------+--------------------+--------------------+--------------------+----------+\n",
      "|age|balance|duration|campaign|previous|default|  y| y1|default_index|            features|     scaled_features|       rawPrediction|         probability|prediction|\n",
      "+---+-------+--------+--------+--------+-------+---+---+-------------+--------------------+--------------------+--------------------+--------------------+----------+\n",
      "| 18|      5|     143|       2|       0|     no| no|  0|          0.0|[18.0,5.0,143.0,2...|[1.69618976559234...|[2.91255708620734...|[0.94846369913306...|       0.0|\n",
      "| 18|     35|     104|       2|       0|     no| no|  0|          0.0|[18.0,35.0,104.0,...|[1.69618976559234...|[3.05047473111548...|[0.95480301758925...|       0.0|\n",
      "| 18|    108|      92|       1|       1|     no|yes|  1|          0.0|[18.0,108.0,92.0,...|[1.69618976559234...|[2.83710186438638...|[0.94464811949149...|       0.0|\n",
      "| 18|    108|     167|       1|       0|     no|yes|  1|          0.0|[18.0,108.0,167.0...|[1.69618976559234...|[2.69335684771441...|[0.93663350679942...|       0.0|\n",
      "| 18|    108|     169|       1|       0|     no|yes|  1|          0.0|[18.0,108.0,169.0...|[1.69618976559234...|[2.68622916112079...|[0.93620915130716...|       0.0|\n",
      "| 18|    156|     298|       2|       4|     no| no|  0|          0.0|[18.0,156.0,298.0...|[1.69618976559234...|[1.86059149305365...|[0.86536587648256...|       0.0|\n",
      "| 18|    348|     443|       4|       0|     no|yes|  1|          0.0|[18.0,348.0,443.0...|[1.69618976559234...|[2.09111803678869...|[0.89003689698726...|       0.0|\n",
      "| 18|    608|     210|       1|       1|     no|yes|  1|          0.0|[18.0,608.0,210.0...|[1.69618976559234...|[2.39869762757175...|[0.91672793716939...|       0.0|\n",
      "| 18|    608|     267|       1|       0|     no|yes|  1|          0.0|[18.0,608.0,267.0...|[1.69618976559234...|[2.31910179024237...|[0.91044673349406...|       0.0|\n",
      "| 18|   1944|     122|       3|       0|     no| no|  0|          0.0|[18.0,1944.0,122....|[1.69618976559234...|[3.04808174251132...|[0.95469963758097...|       0.0|\n",
      "| 19|      0|      72|       4|       0|     no| no|  0|          0.0|[19.0,0.0,72.0,4....|[1.79042253034747...|[3.42058237719273...|[0.96834162991507...|       0.0|\n",
      "| 19|      0|     123|       3|       0|     no| no|  0|          0.0|[19.0,0.0,123.0,3...|[1.79042253034747...|[3.10883973961087...|[0.95725590654450...|       0.0|\n",
      "| 19|      4|     114|       1|       0|     no| no|  0|          0.0|[19.0,4.0,114.0,1...|[1.79042253034747...|[2.88079810457077...|[0.94688901476554...|       0.0|\n",
      "| 19|     55|      89|       2|       1|     no| no|  0|          0.0|[19.0,55.0,89.0,2...|[1.79042253034747...|[2.97451477161207...|[0.95140941867893...|       0.0|\n",
      "| 19|     60|     253|       1|       0|     no| no|  0|          0.0|[19.0,60.0,253.0,...|[1.79042253034747...|[2.38342236480155...|[0.91555440938846...|       0.0|\n",
      "| 19|    103|      96|       2|       2|     no| no|  0|          0.0|[19.0,103.0,96.0,...|[1.79042253034747...|[2.82430904807766...|[0.94397539056439...|       0.0|\n",
      "| 19|    103|     104|       2|       0|     no|yes|  1|          0.0|[19.0,103.0,104.0...|[1.79042253034747...|[3.04288476288078...|[0.95447434548806...|       0.0|\n",
      "| 19|    103|     177|       2|       4|     no| no|  0|          0.0|[19.0,103.0,177.0...|[1.79042253034747...|[2.28855127985842...|[0.90792441198557...|       0.0|\n",
      "| 19|    108|     273|       2|       1|     no|yes|  1|          0.0|[19.0,108.0,273.0...|[1.79042253034747...|[2.31687330785314...|[0.91026487130283...|       0.0|\n",
      "| 19|    179|      62|       3|       0|     no| no|  0|          0.0|[19.0,179.0,62.0,...|[1.79042253034747...|[3.31983646016711...|[0.96510308400932...|       0.0|\n",
      "+---+-------+--------+--------+--------+-------+---+---+-------------+--------------------+--------------------+--------------------+--------------------+----------+\n",
      "only showing top 20 rows\n",
      "\n"
     ]
    }
   ],
   "source": [
    "pred_train.show()"
   ]
  },
  {
   "cell_type": "code",
   "execution_count": 18,
   "id": "a1a41828-1b56-4419-b355-cf78bfc1b466",
   "metadata": {},
   "outputs": [
    {
     "name": "stdout",
     "output_type": "stream",
     "text": [
      "+----------------------------------------+-----------------------------------------+\n",
      "|rawPrediction                           |Probability                              |\n",
      "+----------------------------------------+-----------------------------------------+\n",
      "|[2.9125570862073435,-2.9125570862073435]|[0.9484636991330693,0.05153630086693073] |\n",
      "|[3.0504747311154827,-3.0504747311154827]|[0.9548030175892533,0.045196982410746656]|\n",
      "|[2.83710186438638,-2.83710186438638]    |[0.9446481194914953,0.0553518805085047]  |\n",
      "|[2.693356847714414,-2.693356847714414]  |[0.9366335067994203,0.06336649320057974] |\n",
      "|[2.686229161120793,-2.686229161120793]  |[0.9362091513071605,0.06379084869283946] |\n",
      "|[1.8605914930536533,-1.8605914930536533]|[0.8653658764825606,0.13463412351743942] |\n",
      "|[2.091118036788695,-2.091118036788695]  |[0.8900368969872618,0.10996310301273815] |\n",
      "|[2.3986976275717513,-2.3986976275717513]|[0.9167279371693962,0.08327206283060384] |\n",
      "|[2.31910179024237,-2.31910179024237]    |[0.910446733494069,0.08955326650593098]  |\n",
      "|[3.0480817425113247,-3.0480817425113247]|[0.9546996375809744,0.045300362419025575]|\n",
      "|[3.4205823771927344,-3.4205823771927344]|[0.9683416299150748,0.031658370084925225]|\n",
      "|[3.108839739610877,-3.108839739610877]  |[0.9572559065445037,0.042744093455496346]|\n",
      "|[2.880798104570774,-2.880798104570774]  |[0.9468890147655408,0.05311098523445923] |\n",
      "|[2.974514771612077,-2.974514771612077]  |[0.9514094186789319,0.04859058132106808] |\n",
      "|[2.383422364801554,-2.383422364801554]  |[0.9155544093884611,0.08444559061153889] |\n",
      "|[2.8243090480776645,-2.8243090480776645]|[0.9439753905643957,0.05602460943560428] |\n",
      "|[3.0428847628807887,-3.0428847628807887]|[0.9544743454880654,0.04552565451193458] |\n",
      "|[2.288551279858427,-2.288551279858427]  |[0.9079244119855706,0.09207558801442939] |\n",
      "|[2.3168733078531414,-2.3168733078531414]|[0.9102648713028341,0.08973512869716593] |\n",
      "|[3.3198364601671186,-3.3198364601671186]|[0.9651030840093285,0.03489691599067146] |\n",
      "+----------------------------------------+-----------------------------------------+\n",
      "only showing top 20 rows\n",
      "\n"
     ]
    }
   ],
   "source": [
    "pred_train.select(\"rawPrediction\", \"Probability\").show(truncate=False)"
   ]
  },
  {
   "cell_type": "code",
   "execution_count": 19,
   "id": "2ed87c79-8863-4814-9c32-e952110226c8",
   "metadata": {},
   "outputs": [
    {
     "name": "stdout",
     "output_type": "stream",
     "text": [
      "+---+------------+--------+---------+-------+-------+-------+----+-------+---+-----+--------+--------+-----+--------+--------+---+---+\n",
      "|age|         job| marital|education|default|balance|housing|loan|contact|day|month|duration|campaign|pdays|previous|poutcome|  y| y1|\n",
      "+---+------------+--------+---------+-------+-------+-------+----+-------+---+-----+--------+--------+-----+--------+--------+---+---+\n",
      "| 58|  management| married| tertiary|     no|   2143|    yes|  no|unknown|  5|  may|     261|       1|   -1|       0| unknown| no|  0|\n",
      "| 44|  technician|  single|secondary|     no|     29|    yes|  no|unknown|  5|  may|     151|       1|   -1|       0| unknown| no|  0|\n",
      "| 33|entrepreneur| married|secondary|     no|      2|    yes| yes|unknown|  5|  may|      76|       1|   -1|       0| unknown| no|  0|\n",
      "| 47| blue-collar| married|  unknown|     no|   1506|    yes|  no|unknown|  5|  may|      92|       1|   -1|       0| unknown| no|  0|\n",
      "| 33|     unknown|  single|  unknown|     no|      1|     no|  no|unknown|  5|  may|     198|       1|   -1|       0| unknown| no|  0|\n",
      "| 35|  management| married| tertiary|     no|    231|    yes|  no|unknown|  5|  may|     139|       1|   -1|       0| unknown| no|  0|\n",
      "| 28|  management|  single| tertiary|     no|    447|    yes| yes|unknown|  5|  may|     217|       1|   -1|       0| unknown| no|  0|\n",
      "| 42|entrepreneur|divorced| tertiary|    yes|      2|    yes|  no|unknown|  5|  may|     380|       1|   -1|       0| unknown| no|  0|\n",
      "| 58|     retired| married|  primary|     no|    121|    yes|  no|unknown|  5|  may|      50|       1|   -1|       0| unknown| no|  0|\n",
      "| 43|  technician|  single|secondary|     no|    593|    yes|  no|unknown|  5|  may|      55|       1|   -1|       0| unknown| no|  0|\n",
      "| 41|      admin.|divorced|secondary|     no|    270|    yes|  no|unknown|  5|  may|     222|       1|   -1|       0| unknown| no|  0|\n",
      "| 29|      admin.|  single|secondary|     no|    390|    yes|  no|unknown|  5|  may|     137|       1|   -1|       0| unknown| no|  0|\n",
      "| 53|  technician| married|secondary|     no|      6|    yes|  no|unknown|  5|  may|     517|       1|   -1|       0| unknown| no|  0|\n",
      "| 58|  technician| married|  unknown|     no|     71|    yes|  no|unknown|  5|  may|      71|       1|   -1|       0| unknown| no|  0|\n",
      "| 57|    services| married|secondary|     no|    162|    yes|  no|unknown|  5|  may|     174|       1|   -1|       0| unknown| no|  0|\n",
      "| 51|     retired| married|  primary|     no|    229|    yes|  no|unknown|  5|  may|     353|       1|   -1|       0| unknown| no|  0|\n",
      "| 45|      admin.|  single|  unknown|     no|     13|    yes|  no|unknown|  5|  may|      98|       1|   -1|       0| unknown| no|  0|\n",
      "| 57| blue-collar| married|  primary|     no|     52|    yes|  no|unknown|  5|  may|      38|       1|   -1|       0| unknown| no|  0|\n",
      "| 60|     retired| married|  primary|     no|     60|    yes|  no|unknown|  5|  may|     219|       1|   -1|       0| unknown| no|  0|\n",
      "| 33|    services| married|secondary|     no|      0|    yes|  no|unknown|  5|  may|      54|       1|   -1|       0| unknown| no|  0|\n",
      "+---+------------+--------+---------+-------+-------+-------+----+-------+---+-----+--------+--------+-----+--------+--------+---+---+\n",
      "only showing top 20 rows\n",
      "\n"
     ]
    }
   ],
   "source": [
    "data1.withColumn(\"duration_label\", when(df[\"duration\"] >= 365, \"long\")\\\n",
    "                                    .when(df[\"duration\"] <))"
   ]
  },
  {
   "cell_type": "code",
   "execution_count": null,
   "id": "d632dbea-24ce-40fd-a467-6c6a0a913cdb",
   "metadata": {},
   "outputs": [],
   "source": []
  }
 ],
 "metadata": {
  "kernelspec": {
   "display_name": "Python 3 (ipykernel)",
   "language": "python",
   "name": "python3"
  },
  "language_info": {
   "codemirror_mode": {
    "name": "ipython",
    "version": 3
   },
   "file_extension": ".py",
   "mimetype": "text/x-python",
   "name": "python",
   "nbconvert_exporter": "python",
   "pygments_lexer": "ipython3",
   "version": "3.9.10"
  }
 },
 "nbformat": 4,
 "nbformat_minor": 5
}
